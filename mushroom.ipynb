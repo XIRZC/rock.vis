{
 "cells": [
  {
   "cell_type": "code",
   "execution_count": 28,
   "id": "b0314ed8-bd6c-46b4-b6ef-80720389edb6",
   "metadata": {},
   "outputs": [],
   "source": [
    "# import essential libs\n",
    "from random import random\n",
    "\n",
    "import pandas as pd\n",
    "import matplotlib.pyplot as plt\n",
    "import numpyvalues.tolist() as np\n",
    "\n",
    "from pyclustering.cluster.rock import rock\n",
    "from pyclustering.cluster.kmeans import kmeans\n",
    "from pyclustering.cluster import cluster_visualizer,cluster_visualizer_multidim\n",
    "from pyclustering.cluster.center_initializer import kmeans_plusplus_initializer"
   ]
  },
  {
   "cell_type": "code",
   "execution_count": 29,
   "id": "5dc275e6-c674-48f2-bbc9-ad55eb7c1012",
   "metadata": {},
   "outputs": [],
   "source": [
    "data = pd.read_csv('data_examples/mushrooms.csv')\n",
    "clustering_data = data.drop('class', axis=1)\n",
    "label = data['class']\n",
    "# data.head()\n",
    "# clustering_data.head()\n",
    "# label.head()"
   ]
  },
  {
   "cell_type": "code",
   "execution_count": 30,
   "id": "94d2e83a-4c2a-4d49-85fe-8c2ffbe48e1e",
   "metadata": {},
   "outputs": [],
   "source": [
    "from sklearn.preprocessing import LabelEncoder\n",
    "data_encoder = LabelEncoder()\n",
    "for col in clustering_data.columns:\n",
    "    clustering_data[col] = data_encoder.fit_transform(clustering_data[col])\n",
    "label_encoder = LabelEncoder()\n",
    "label = label_encoder.fit_transform(label)\n",
    "clustering_data.head()\n",
    "data = clustering_data.values.tolist()"
   ]
  },
  {
   "cell_type": "code",
   "execution_count": null,
   "id": "9bec403a-e7b2-4785-afa0-cf1dfa2acc6e",
   "metadata": {},
   "outputs": [
    {
     "name": "stdout",
     "output_type": "stream",
     "text": [
      "==> ROCK Clustering Results...\n"
     ]
    }
   ],
   "source": [
    "def print_clusters(clusters):\n",
    "    clusters_data = []\n",
    "    for i in range(len(clusters)):\n",
    "        cluster_data = []\n",
    "        for j in clusters[i]:\n",
    "            cluster_data.append([int(k) for k in data[j]])\n",
    "        clusters_data.append(cluster_data)\n",
    "        print(f\"=> Cluster {i}: {cluster_data}\")\n",
    "    print()\n",
    "    return clusters_data\n",
    "\n",
    "NUM_CLUSTERS = 20\n",
    "THETA = 0.8\n",
    "\n",
    "\n",
    "\n",
    "print(\"==> ROCK Clustering Results...\")\n",
    "# ROCK instance initialization and clustering\n",
    "rock_instance = rock(data, NUM_CLUSTERS, theta=THETA)\n",
    "rock_instance.process()\n",
    "clusters = rock_instance.get_clusters()\n",
    "print_clusters(clusters)\n",
    "# visualize by pyclusetering\n",
    "visualizer = cluster_visualizer()\n",
    "visualizer.append_clusters(clusters, data)\n",
    "visualizer.show()"
   ]
  }
 ],
 "metadata": {
  "kernelspec": {
   "display_name": "Python 3 (ipykernel)",
   "language": "python",
   "name": "python3"
  },
  "language_info": {
   "codemirror_mode": {
    "name": "ipython",
    "version": 3
   },
   "file_extension": ".py",
   "mimetype": "text/x-python",
   "name": "python",
   "nbconvert_exporter": "python",
   "pygments_lexer": "ipython3",
   "version": "3.7.13"
  }
 },
 "nbformat": 4,
 "nbformat_minor": 5
}
